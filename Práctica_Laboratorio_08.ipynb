{
  "nbformat": 4,
  "nbformat_minor": 0,
  "metadata": {
    "colab": {
      "provenance": [],
      "authorship_tag": "ABX9TyNHRQ7AVismDI3k9B7fv0jd",
      "include_colab_link": true
    },
    "kernelspec": {
      "name": "python3",
      "display_name": "Python 3"
    },
    "language_info": {
      "name": "python"
    }
  },
  "cells": [
    {
      "cell_type": "markdown",
      "metadata": {
        "id": "view-in-github",
        "colab_type": "text"
      },
      "source": [
        "<a href=\"https://colab.research.google.com/github/hyanquiv/Fisica-Computacional/blob/main/Pr%C3%A1ctica_Laboratorio_08.ipynb\" target=\"_parent\"><img src=\"https://colab.research.google.com/assets/colab-badge.svg\" alt=\"Open In Colab\"/></a>"
      ]
    },
    {
      "cell_type": "markdown",
      "source": [
        "## Problema 1: \\( y = \\ln(x - 2) \\)\n",
        "\n",
        "Resolviendo la ecuación \\( \\ln(x - 2) = 0 \\), encontramos el valor de \\( x \\) que satisface la ecuación.\n",
        "\n",
        "Se usará el método de Newton-Raphson."
      ],
      "metadata": {
        "id": "UgfiyPxJKw_L"
      }
    },
    {
      "cell_type": "code",
      "execution_count": 1,
      "metadata": {
        "colab": {
          "base_uri": "https://localhost:8080/"
        },
        "id": "yd7275dXKaOz",
        "outputId": "3d435964-2d97-4933-98bb-7ae82774ba10"
      },
      "outputs": [
        {
          "output_type": "stream",
          "name": "stdout",
          "text": [
            "Solución del Problema 1: x = 3.000000\n"
          ]
        }
      ],
      "source": [
        "import numpy as np\n",
        "from scipy.optimize import newton\n",
        "\n",
        "# Definición de la función\n",
        "def f1(x):\n",
        "    return np.log(x - 2)\n",
        "\n",
        "# Derivada de la función\n",
        "def df1(x):\n",
        "    return 1 / (x - 2)\n",
        "\n",
        "# Resolviendo usando Newton-Raphson\n",
        "x0 = 3  # Punto inicial\n",
        "root1 = newton(f1, x0, fprime=df1)\n",
        "print(f\"Solución del Problema 1: x = {root1:.6f}\")"
      ]
    },
    {
      "cell_type": "markdown",
      "source": [
        "## Problema 2: \\( y = e^{-x} \\)\n",
        "\n",
        "Resolviendo la ecuación \\( e^{-x} = 0 \\), observamos que no hay solución, ya que \\( e^{-x} > 0 \\) para todos los valores de \\( x \\).\n",
        "\n",
        "Por lo tanto, este problema no tiene raíces reales y no se aplican métodos numéricos.\n"
      ],
      "metadata": {
        "id": "ItJeMAlfLHZq"
      }
    },
    {
      "cell_type": "code",
      "source": [
        "import numpy as np\n",
        "import matplotlib.pyplot as plt\n",
        "\n",
        "# Generar datos para graficar\n",
        "x = np.linspace(-5, 5, 500)\n",
        "y = np.exp(-x)\n",
        "\n",
        "# Graficar la función\n",
        "plt.figure(figsize=(8, 5))\n",
        "plt.plot(x, y, label=r\"$e^{-x}$\")\n",
        "plt.axhline(0, color='black', linestyle='--', linewidth=0.8)\n",
        "plt.title(\"Comportamiento de $e^{-x}$\")\n",
        "plt.xlabel(\"x\")\n",
        "plt.ylabel(\"y\")\n",
        "plt.legend()\n",
        "plt.grid()\n",
        "plt.show()\n"
      ],
      "metadata": {
        "colab": {
          "base_uri": "https://localhost:8080/",
          "height": 489
        },
        "id": "Yj_WJVDgLIHy",
        "outputId": "95ad4c39-8e13-46b3-8f86-7890967f94c1"
      },
      "execution_count": 2,
      "outputs": [
        {
          "output_type": "display_data",
          "data": {
            "text/plain": [
              "<Figure size 800x500 with 1 Axes>"
            ],
            "image/png": "[encoded data removed]"
          },
          "metadata": {}
        }
      ]
    },
    {
      "cell_type": "markdown",
      "source": [
        "## Problema 3: \\( y = e^x - x \\)\n",
        "\n",
        "Resolviendo la ecuación \\( e^x - x = 0 \\), se encuentra el valor de \\( x \\) que satisface esta ecuación.\n",
        "\n",
        "Se usará el método de Newton-Raphson.\n"
      ],
      "metadata": {
        "id": "28t1AuxYLwsl"
      }
    },
    {
      "cell_type": "code",
      "source": [
        "import numpy as np\n",
        "from scipy.optimize import newton\n",
        "\n",
        "# Definición de la función\n",
        "def f3(x):\n",
        "    return np.exp(x) - x\n",
        "\n",
        "# Derivada de la función\n",
        "def df3(x):\n",
        "    return np.exp(x) - 1\n",
        "\n",
        "# Resolviendo usando Newton-Raphson\n",
        "x0 = 0  # Punto inicial\n",
        "root3 = newton(f3, x0, fprime=df3)\n",
        "print(f\"Solución del Problema 3: x = {root3:.6f}\")\n"
      ],
      "metadata": {
        "id": "5B-xeiFELyG6"
      },
      "execution_count": null,
      "outputs": []
    },
    {
      "cell_type": "markdown",
      "source": [
        "## Problema 4: \\( y = 10e^{x^2} \\cos(2x) \\)\n",
        "\n",
        "Para resolver la ecuación \\( 10e^{x^2} \\cos(2x) = 0 \\), observamos que \\( 10e^{x^2} > 0 \\) para todos los valores de \\( x \\).\n",
        "\n",
        "Por lo tanto, la ecuación se reduce a encontrar los ceros de \\( \\cos(2x) = 0 \\). Usaremos el método de la bisección para encontrar una raíz en un intervalo inicial.\n"
      ],
      "metadata": {
        "id": "VRLhhqhWLzuj"
      }
    },
    {
      "cell_type": "code",
      "source": [
        "import numpy as np\n",
        "from scipy.optimize import bisect\n",
        "\n",
        "# Definición de la función reducida\n",
        "def f4(x):\n",
        "    return np.cos(2 * x)\n",
        "\n",
        "# Resolviendo ceros usando Bisección en un intervalo inicial\n",
        "root4 = bisect(f4, 0, np.pi/2)  # Intervalo donde cos(2x) cambia de signo\n",
        "print(f\"Solución del Problema 4 (primer cero): x = {root4:.6f}\")\n"
      ],
      "metadata": {
        "colab": {
          "base_uri": "https://localhost:8080/"
        },
        "id": "nMBUpkFFL0CB",
        "outputId": "c7ab32d0-22cc-4ef3-aeb7-03239e702b64"
      },
      "execution_count": 5,
      "outputs": [
        {
          "output_type": "stream",
          "name": "stdout",
          "text": [
            "Solución del Problema 4 (primer cero): x = 0.785398\n"
          ]
        }
      ]
    },
    {
      "cell_type": "markdown",
      "source": [
        "## Problema 5: \\( y = x^2 - 2 \\)\n",
        "\n",
        "Resolviendo la ecuación \\( x^2 - 2 = 0 \\), buscamos las raíces de esta ecuación cuadrática. Sabemos que las soluciones exactas son \\( x = \\pm\\sqrt{2} \\).\n",
        "\n",
        "Aun así, usaremos un método numérico, como el de Newton-Raphson, para verificar las soluciones.\n"
      ],
      "metadata": {
        "id": "fqbb6FFJL-jz"
      }
    },
    {
      "cell_type": "code",
      "source": [
        "import numpy as np\n",
        "from scipy.optimize import newton\n",
        "\n",
        "# Definición de la función\n",
        "def f5(x):\n",
        "    return x**2 - 2\n",
        "\n",
        "# Derivada de la función\n",
        "def df5(x):\n",
        "    return 2 * x\n",
        "\n",
        "# Resolviendo usando Newton-Raphson para la raíz positiva\n",
        "x0_positive = 1  # Punto inicial cercano a sqrt(2)\n",
        "root5_positive = newton(f5, x0_positive, fprime=df5)\n",
        "\n",
        "# Resolviendo usando Newton-Raphson para la raíz negativa\n",
        "x0_negative = -1  # Punto inicial cercano a -sqrt(2)\n",
        "root5_negative = newton(f5, x0_negative, fprime=df5)\n",
        "\n",
        "print(f\"Solución del Problema 5 (raíz positiva): x = {root5_positive:.6f}\")\n",
        "print(f\"Solución del Problema 5 (raíz negativa): x = {root5_negative:.6f}\")\n"
      ],
      "metadata": {
        "colab": {
          "base_uri": "https://localhost:8080/"
        },
        "id": "98uEP4WGMAC6",
        "outputId": "88bae88e-fc89-4bfd-80ee-9aaf5edc34dd"
      },
      "execution_count": 6,
      "outputs": [
        {
          "output_type": "stream",
          "name": "stdout",
          "text": [
            "Solución del Problema 5 (raíz positiva): x = 1.414214\n",
            "Solución del Problema 5 (raíz negativa): x = -1.414214\n"
          ]
        }
      ]
    },
    {
      "cell_type": "markdown",
      "source": [
        "## Problema 6: \\( y = (x - 2)^{1/2} \\)\n",
        "\n",
        "Resolviendo la ecuación \\( (x - 2)^{1/2} = 0 \\), buscamos el valor de \\( x \\) que satisface esta ecuación.\n",
        "\n",
        "Es evidente que la raíz de esta ecuación ocurre cuando \\( x - 2 = 0 \\), es decir, \\( x = 2 \\). Verificaremos esto usando el método de Newton-Raphson.\n"
      ],
      "metadata": {
        "id": "IZ5v15h-L-gL"
      }
    },
    {
      "cell_type": "code",
      "source": [
        "import numpy as np\n",
        "from scipy.optimize import newton\n",
        "\n",
        "# Definición de la función\n",
        "def f6(x):\n",
        "    return np.sqrt(x - 2)\n",
        "\n",
        "# Derivada de la función\n",
        "def df6(x):\n",
        "    return 0.5 / np.sqrt(x - 2)\n",
        "\n",
        "# Resolviendo usando Newton-Raphson\n",
        "x0 = 3  # Punto inicial cercano a la solución\n",
        "root6 = newton(f6, x0, fprime=df6)\n",
        "print(f\"Solución del Problema 6: x = {root6:.6f}\")\n"
      ],
      "metadata": {
        "id": "wGc47OfVME-S"
      },
      "execution_count": null,
      "outputs": []
    },
    {
      "cell_type": "markdown",
      "source": [
        "## Problema 7: \\( y = x \\cos(y) + y \\sin(x) \\)\n",
        "\n",
        "Resolver la ecuación \\( x \\cos(y) + y \\sin(x) = 0 \\) es más complicado porque la variable \\( y \\) depende de \\( x \\). Utilizaremos un método iterativo, como el método de Newton-Raphson, para resolver esta ecuación en un caso específico de \\( x \\). Supongamos \\( x = 1 \\) para hallar el valor de \\( y \\) que satisface la ecuación.\n"
      ],
      "metadata": {
        "id": "gM4qkx67MHly"
      }
    },
    {
      "cell_type": "code",
      "source": [
        "import numpy as np\n",
        "from scipy.optimize import newton\n",
        "\n",
        "# Definición de la función\n",
        "def f7(y, x=1):\n",
        "    return x * np.cos(y) + y * np.sin(x)\n",
        "\n",
        "# Derivada parcial de la función con respecto a y\n",
        "def df7(y, x=1):\n",
        "    return -x * np.sin(y) + np.sin(x)\n",
        "\n",
        "# Resolviendo para x = 1 usando Newton-Raphson\n",
        "x_fixed = 1\n",
        "y0 = 0  # Punto inicial\n",
        "root7 = newton(f7, y0, fprime=df7, args=(x_fixed,))\n",
        "print(f\"Solución del Problema 7 para x = {x_fixed}: y = {root7:.6f}\")\n"
      ],
      "metadata": {
        "colab": {
          "base_uri": "https://localhost:8080/"
        },
        "id": "2sNFRwbiMLh6",
        "outputId": "b046a4cd-130f-4b37-d197-6206829b2cab"
      },
      "execution_count": 8,
      "outputs": [
        {
          "output_type": "stream",
          "name": "stdout",
          "text": [
            "Solución del Problema 7 para x = 1: y = -0.815044\n"
          ]
        }
      ]
    },
    {
      "cell_type": "markdown",
      "source": [
        "## Problema 8: \\( y = \\frac{2}{x} \\)\n",
        "\n",
        "Resolver la ecuación \\( \\frac{2}{x} = 0 \\) no tiene solución, ya que la división \\( \\frac{2}{x} \\) nunca puede ser igual a 0 para ningún valor finito de \\( x \\).\n",
        "\n",
        "Para ilustrarlo, se puede graficar la función y analizar su comportamiento.\n"
      ],
      "metadata": {
        "id": "L9oZNqBNMOOS"
      }
    },
    {
      "cell_type": "code",
      "source": [
        "import numpy as np\n",
        "import matplotlib.pyplot as plt\n",
        "\n",
        "# Definición de la función\n",
        "def f8(x):\n",
        "    return 2 / x\n",
        "\n",
        "# Generar valores para graficar\n",
        "x = np.linspace(-10, 10, 500)\n",
        "x = x[x != 0]  # Evitar la división por cero\n",
        "y = f8(x)\n",
        "\n",
        "# Graficar la función\n",
        "plt.figure(figsize=(8, 5))\n",
        "plt.plot(x, y, label=r\"$y = \\frac{2}{x}$\")\n",
        "plt.axhline(0, color='black', linestyle='--', linewidth=0.8)\n",
        "plt.axvline(0, color='black', linestyle='--', linewidth=0.8)\n",
        "plt.title(\"Comportamiento de $y = \\\\frac{2}{x}$\")\n",
        "plt.xlabel(\"x\")\n",
        "plt.ylabel(\"y\")\n",
        "plt.legend()\n",
        "plt.grid()\n",
        "plt.show()\n"
      ],
      "metadata": {
        "colab": {
          "base_uri": "https://localhost:8080/",
          "height": 492
        },
        "id": "GMXArRCzMN-6",
        "outputId": "13b30a42-85e7-4592-f09f-001fb21e1b2b"
      },
      "execution_count": 9,
      "outputs": [
        {
          "output_type": "display_data",
          "data": {
            "text/plain": [
              "<Figure size 800x500 with 1 Axes>"
            ],
            "image/png": "[encoded data removed]"
          },
          "metadata": {}
        }
      ]
    }
  ]
}